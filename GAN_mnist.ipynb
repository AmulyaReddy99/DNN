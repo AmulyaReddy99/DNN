{
  "nbformat": 4,
  "nbformat_minor": 0,
  "metadata": {
    "colab": {
      "name": "GAN_mnist.ipynb",
      "provenance": [],
      "collapsed_sections": [],
      "toc_visible": true
    },
    "kernelspec": {
      "name": "python3",
      "display_name": "Python 3"
    },
    "accelerator": "GPU"
  },
  "cells": [
    {
      "cell_type": "code",
      "metadata": {
        "id": "_iOAPc47SSVK",
        "colab_type": "code",
        "outputId": "3dbf9b31-d4bc-4ef8-8702-b0c0c7159249",
        "colab": {
          "base_uri": "https://localhost:8080/",
          "height": 63
        }
      },
      "source": [
        "import tensorflow as tf"
      ],
      "execution_count": 0,
      "outputs": [
        {
          "output_type": "display_data",
          "data": {
            "text/html": [
              "<p style=\"color: red;\">\n",
              "The default version of TensorFlow in Colab will soon switch to TensorFlow 2.x.<br>\n",
              "We recommend you <a href=\"https://www.tensorflow.org/guide/migrate\" target=\"_blank\">upgrade</a> now \n",
              "or ensure your notebook will continue to use TensorFlow 1.x via the <code>%tensorflow_version 1.x</code> magic:\n",
              "<a href=\"https://colab.research.google.com/notebooks/tensorflow_version.ipynb\" target=\"_blank\">more info</a>.</p>\n"
            ],
            "text/plain": [
              "<IPython.core.display.HTML object>"
            ]
          },
          "metadata": {
            "tags": []
          }
        }
      ]
    },
    {
      "cell_type": "code",
      "metadata": {
        "id": "Ukkck3E3TDcy",
        "colab_type": "code",
        "colab": {}
      },
      "source": [
        "import numpy as np\n",
        "import matplotlib.pyplot as plt\n",
        "%matplotlib inline"
      ],
      "execution_count": 0,
      "outputs": []
    },
    {
      "cell_type": "code",
      "metadata": {
        "id": "6Vh4wmS2TV_5",
        "colab_type": "code",
        "colab": {}
      },
      "source": [
        "# from tensorflow.examples.tutorials.mnist import input_data"
      ],
      "execution_count": 0,
      "outputs": []
    },
    {
      "cell_type": "code",
      "metadata": {
        "id": "pudxF3Q3bklc",
        "colab_type": "code",
        "outputId": "1b773809-194b-4c28-9cb2-bfd0dfeda89b",
        "colab": {
          "base_uri": "https://localhost:8080/",
          "height": 54
        }
      },
      "source": [
        "from google.colab import drive\n",
        "drive.mount('/content/drive')"
      ],
      "execution_count": 0,
      "outputs": [
        {
          "output_type": "stream",
          "text": [
            "Drive already mounted at /content/drive; to attempt to forcibly remount, call drive.mount(\"/content/drive\", force_remount=True).\n"
          ],
          "name": "stdout"
        }
      ]
    },
    {
      "cell_type": "code",
      "metadata": {
        "id": "qvRlPBgjjOMk",
        "colab_type": "code",
        "colab": {}
      },
      "source": [
        "IMG_PATH = \"/content/drive/My Drive/Colab Notebooks/idcard/*.jpg\""
      ],
      "execution_count": 0,
      "outputs": []
    },
    {
      "cell_type": "code",
      "metadata": {
        "id": "WjgE-3cHjW7o",
        "colab_type": "code",
        "colab": {}
      },
      "source": [
        "import glob, cv2\n",
        "images = []\n",
        "for img in glob.glob(IMG_PATH):\n",
        "    images.append(cv2.resize(cv2.imread(img,cv2.IMREAD_GRAYSCALE),(28,28)))"
      ],
      "execution_count": 0,
      "outputs": []
    },
    {
      "cell_type": "code",
      "metadata": {
        "id": "zsvhGrsMlKBs",
        "colab_type": "code",
        "outputId": "18feb022-65bd-44a8-891e-54d229e8c6e1",
        "colab": {
          "base_uri": "https://localhost:8080/",
          "height": 34
        }
      },
      "source": [
        "len(images)"
      ],
      "execution_count": 0,
      "outputs": [
        {
          "output_type": "execute_result",
          "data": {
            "text/plain": [
              "45"
            ]
          },
          "metadata": {
            "tags": []
          },
          "execution_count": 7
        }
      ]
    },
    {
      "cell_type": "code",
      "metadata": {
        "id": "bgR9u0t1ptXX",
        "colab_type": "code",
        "outputId": "bf7cf534-98fc-40be-e5c6-87bb51bafd30",
        "colab": {
          "base_uri": "https://localhost:8080/",
          "height": 34
        }
      },
      "source": [
        "images[0].shape"
      ],
      "execution_count": 0,
      "outputs": [
        {
          "output_type": "execute_result",
          "data": {
            "text/plain": [
              "(28, 28)"
            ]
          },
          "metadata": {
            "tags": []
          },
          "execution_count": 8
        }
      ]
    },
    {
      "cell_type": "code",
      "metadata": {
        "id": "mJ9woxKRThEH",
        "colab_type": "code",
        "colab": {}
      },
      "source": [
        "# mnist = input_data.read_data_sets(\"../03-Convolutional-Neural-Networks/MNIST_data/\", one_hot=True)"
      ],
      "execution_count": 0,
      "outputs": []
    },
    {
      "cell_type": "code",
      "metadata": {
        "id": "T-PPX3KYT9g_",
        "colab_type": "code",
        "outputId": "2c79666c-2ee8-459a-c1f7-1e9b492e3477",
        "colab": {
          "base_uri": "https://localhost:8080/",
          "height": 282
        }
      },
      "source": [
        "plt.imshow(images[20])"
      ],
      "execution_count": 0,
      "outputs": [
        {
          "output_type": "execute_result",
          "data": {
            "text/plain": [
              "<matplotlib.image.AxesImage at 0x7f2127dfe5c0>"
            ]
          },
          "metadata": {
            "tags": []
          },
          "execution_count": 63
        },
        {
          "output_type": "display_data",
          "data": {
            "image/png": "[encoded data removed]",
            "text/plain": [
              "<Figure size 432x288 with 1 Axes>"
            ]
          },
          "metadata": {
            "tags": []
          }
        }
      ]
    },
    {
      "cell_type": "code",
      "metadata": {
        "id": "MrpWNTgIUafz",
        "colab_type": "code",
        "colab": {}
      },
      "source": [
        "def generator(z, reuse=None):\n",
        "  with tf.variable_scope('gen',reuse=reuse):\n",
        "    hidden1 = tf.layers.dense(inputs=z,units=128)\n",
        "    \n",
        "    alpha = 0.01\n",
        "    hidden1 = tf.maximum(alpha*hidden1,hidden1)\n",
        "    \n",
        "    hidden2 = tf.layers.dense(inputs=hidden1,units=128)\n",
        "    \n",
        "    hidden2 = tf.maximum(alpha*hidden2,hidden2)\n",
        "    \n",
        "    output = tf.layers.dense(hidden2,units=784,activation=tf.nn.tanh)\n",
        "    \n",
        "    return output\n",
        "  "
      ],
      "execution_count": 0,
      "outputs": []
    },
    {
      "cell_type": "code",
      "metadata": {
        "id": "PCCWikyjZIyM",
        "colab_type": "code",
        "colab": {}
      },
      "source": [
        "def discriminator(x, reuse=None):\n",
        "  with tf.variable_scope('dis',reuse=reuse):\n",
        "    hidden1 = tf.layers.dense(inputs=x,units=128)\n",
        "    \n",
        "    alpha = 0.01\n",
        "    hidden1 = tf.maximum(alpha*hidden1,hidden1)\n",
        "    \n",
        "    hidden2 = tf.layers.dense(inputs=hidden1,units=128)\n",
        "    \n",
        "    hidden2 = tf.maximum(alpha*hidden2,hidden2)\n",
        "    \n",
        "    logits = tf.layers.dense(hidden2,units=1)\n",
        "    output = tf.sigmoid(logits)\n",
        "    \n",
        "    return output,logits\n",
        "  "
      ],
      "execution_count": 0,
      "outputs": []
    },
    {
      "cell_type": "code",
      "metadata": {
        "id": "1D9F0bDiZfx8",
        "colab_type": "code",
        "colab": {}
      },
      "source": [
        "real_images = tf.placeholder(tf.float32,shape=[None,784])\n",
        "z = tf.placeholder(tf.float32,shape=[None,100])"
      ],
      "execution_count": 0,
      "outputs": []
    },
    {
      "cell_type": "code",
      "metadata": {
        "id": "w8YDmzYva4mK",
        "colab_type": "code",
        "outputId": "056fe807-51e0-43bc-f890-3ae15f7731eb",
        "colab": {
          "base_uri": "https://localhost:8080/",
          "height": 139
        }
      },
      "source": [
        "G = generator(z)"
      ],
      "execution_count": 0,
      "outputs": [
        {
          "output_type": "stream",
          "text": [
            "WARNING:tensorflow:From <ipython-input-11-ffc3cc4b742a>:3: dense (from tensorflow.python.layers.core) is deprecated and will be removed in a future version.\n",
            "Instructions for updating:\n",
            "Use keras.layers.Dense instead.\n",
            "WARNING:tensorflow:From /usr/local/lib/python3.6/dist-packages/tensorflow_core/python/layers/core.py:187: Layer.apply (from tensorflow.python.keras.engine.base_layer) is deprecated and will be removed in a future version.\n",
            "Instructions for updating:\n",
            "Please use `layer.__call__` method instead.\n"
          ],
          "name": "stdout"
        }
      ]
    },
    {
      "cell_type": "code",
      "metadata": {
        "id": "KcM_lWj8a8y7",
        "colab_type": "code",
        "colab": {}
      },
      "source": [
        "D_output_real, D_logits_real = discriminator(real_images)\n",
        "D_output_fake, D_logits_fake = discriminator(G,reuse=True)"
      ],
      "execution_count": 0,
      "outputs": []
    },
    {
      "cell_type": "code",
      "metadata": {
        "id": "kndxGu04cFcW",
        "colab_type": "code",
        "colab": {}
      },
      "source": [
        "# LOSSES\n",
        "\n",
        "def loss_func(logits_in,labels_in):\n",
        "  return tf.reduce_mean(tf.nn.sigmoid_cross_entropy_with_logits(\n",
        "  logits=logits_in,labels=labels_in))"
      ],
      "execution_count": 0,
      "outputs": []
    },
    {
      "cell_type": "code",
      "metadata": {
        "id": "HkJZPDIrdBEJ",
        "colab_type": "code",
        "outputId": "11e06db6-3dc5-4d1c-b736-a41803bcdeb0",
        "colab": {
          "base_uri": "https://localhost:8080/",
          "height": 88
        }
      },
      "source": [
        "D_real_loss = loss_func(D_logits_real,tf.ones_like(D_logits_real)*0.9)\n",
        "D_fake_loss = loss_func(D_logits_fake,tf.zeros_like(D_logits_real))"
      ],
      "execution_count": 0,
      "outputs": [
        {
          "output_type": "stream",
          "text": [
            "WARNING:tensorflow:From /usr/local/lib/python3.6/dist-packages/tensorflow_core/python/ops/nn_impl.py:183: where (from tensorflow.python.ops.array_ops) is deprecated and will be removed in a future version.\n",
            "Instructions for updating:\n",
            "Use tf.where in 2.0, which has the same broadcast rule as np.where\n"
          ],
          "name": "stdout"
        }
      ]
    },
    {
      "cell_type": "code",
      "metadata": {
        "id": "OI3P2k23eN3f",
        "colab_type": "code",
        "colab": {}
      },
      "source": [
        "D_loss = D_real_loss + D_fake_loss"
      ],
      "execution_count": 0,
      "outputs": []
    },
    {
      "cell_type": "code",
      "metadata": {
        "id": "PE-A7GJ8eR6i",
        "colab_type": "code",
        "colab": {}
      },
      "source": [
        "G_loss = loss_func(D_logits_fake,tf.ones_like(D_logits_fake))"
      ],
      "execution_count": 0,
      "outputs": []
    },
    {
      "cell_type": "code",
      "metadata": {
        "id": "6L3-lAMXecSF",
        "colab_type": "code",
        "colab": {}
      },
      "source": [
        "learning_rate = 0.001"
      ],
      "execution_count": 0,
      "outputs": []
    },
    {
      "cell_type": "code",
      "metadata": {
        "id": "0UwRmSGJegnR",
        "colab_type": "code",
        "colab": {}
      },
      "source": [
        "tvars = tf.trainable_variables()\n",
        "\n",
        "d_vars = [var for var in tvars if 'dis' in var.name]\n",
        "g_vars = [var for var in tvars if 'gen' in var.name]"
      ],
      "execution_count": 0,
      "outputs": []
    },
    {
      "cell_type": "code",
      "metadata": {
        "id": "Ex22xt7We8Zc",
        "colab_type": "code",
        "colab": {}
      },
      "source": [
        "D_trainer = tf.train.AdamOptimizer(learning_rate).minimize(D_loss,var_list=d_vars)"
      ],
      "execution_count": 0,
      "outputs": []
    },
    {
      "cell_type": "code",
      "metadata": {
        "id": "TDDGAZxYfTPM",
        "colab_type": "code",
        "colab": {}
      },
      "source": [
        "G_trainer = tf.train.AdamOptimizer(learning_rate).minimize(G_loss,var_list=g_vars)"
      ],
      "execution_count": 0,
      "outputs": []
    },
    {
      "cell_type": "code",
      "metadata": {
        "id": "208OJq1KfYAR",
        "colab_type": "code",
        "outputId": "be08fdc0-b920-4960-db65-8562454c9f2b",
        "colab": {
          "base_uri": "https://localhost:8080/",
          "height": 119
        }
      },
      "source": [
        "d_vars"
      ],
      "execution_count": 0,
      "outputs": [
        {
          "output_type": "execute_result",
          "data": {
            "text/plain": [
              "[<tf.Variable 'dis/dense/kernel:0' shape=(784, 128) dtype=float32_ref>,\n",
              " <tf.Variable 'dis/dense/bias:0' shape=(128,) dtype=float32_ref>,\n",
              " <tf.Variable 'dis/dense_1/kernel:0' shape=(128, 128) dtype=float32_ref>,\n",
              " <tf.Variable 'dis/dense_1/bias:0' shape=(128,) dtype=float32_ref>,\n",
              " <tf.Variable 'dis/dense_2/kernel:0' shape=(128, 1) dtype=float32_ref>,\n",
              " <tf.Variable 'dis/dense_2/bias:0' shape=(1,) dtype=float32_ref>]"
            ]
          },
          "metadata": {
            "tags": []
          },
          "execution_count": 24
        }
      ]
    },
    {
      "cell_type": "code",
      "metadata": {
        "id": "6J5a8UdgfZZB",
        "colab_type": "code",
        "colab": {}
      },
      "source": [
        "batch_size = 15\n",
        "epochs = 200"
      ],
      "execution_count": 0,
      "outputs": []
    },
    {
      "cell_type": "code",
      "metadata": {
        "id": "Kp6b873Zf4hI",
        "colab_type": "code",
        "colab": {}
      },
      "source": [
        "init = tf.global_variables_initializer()"
      ],
      "execution_count": 0,
      "outputs": []
    },
    {
      "cell_type": "code",
      "metadata": {
        "id": "sUJu5lchgBwT",
        "colab_type": "code",
        "colab": {}
      },
      "source": [
        "samples = []\n",
        "saver = tf.train.Saver(var_list=g_vars)"
      ],
      "execution_count": 0,
      "outputs": []
    },
    {
      "cell_type": "code",
      "metadata": {
        "id": "zhoMfGDWrSgI",
        "colab_type": "code",
        "colab": {}
      },
      "source": [
        "def next_batch(total_images, batch_number, batch_size):\n",
        "\n",
        "  return total_images[batch_number * batch_size : batch_number*batch_size + batch_size]"
      ],
      "execution_count": 0,
      "outputs": []
    },
    {
      "cell_type": "code",
      "metadata": {
        "id": "rJDgeNzhgPm-",
        "colab_type": "code",
        "colab": {}
      },
      "source": [
        "with tf.Session() as sess:\n",
        "    \n",
        "    sess.run(init)\n",
        "    \n",
        "    for e in range(epochs):\n",
        "        num_batches = 3\n",
        "        \n",
        "        for i in range(num_batches):\n",
        "            \n",
        "            batch_images = next_batch(images, i, batch_size)\n",
        "            # batch = np.array(batch).flatten()\n",
        "            \n",
        "            batch_images = batch.reshape((batch_size, 784))\n",
        "            # batch_images = batch_images*2 - 1\n",
        "\n",
        "            batch_z = np.random.uniform(-1, 1, size=(batch_size, 100))\n",
        "            \n",
        "            _ = sess.run(D_trainer, feed_dict={real_images: batch_images, z: batch_z})\n",
        "            _ = sess.run(G_trainer, feed_dict={z: batch_z})\n",
        "        \n",
        "            \n",
        "        if epochs%5==0:\n",
        "          print(\"Currently on Epoch {} of {} total...\".format(e+1, epochs))\n",
        "        \n",
        "        sample_z = np.random.uniform(-1, 1, size=(1, 100))\n",
        "        gen_sample = sess.run(generator(z ,reuse=True),feed_dict={z: sample_z})\n",
        "        \n",
        "        samples.append(gen_sample)\n",
        "        \n",
        "        saver.save(sess, './models/30_epoch_model.ckpt')"
      ],
      "execution_count": 0,
      "outputs": []
    },
    {
      "cell_type": "code",
      "metadata": {
        "id": "L9D1TRnUimQA",
        "colab_type": "code",
        "outputId": "b994deba-c845-408d-da72-221d1b44966a",
        "colab": {
          "base_uri": "https://localhost:8080/",
          "height": 34
        }
      },
      "source": [
        "saver = tf.train.Saver(var_list=g_vars)\n",
        "\n",
        "new_samples = []\n",
        "with tf.Session() as sess:\n",
        "    \n",
        "    saver.restore(sess,'./models/30_epoch_model.ckpt')\n",
        "    \n",
        "    for x in range(5):\n",
        "        sample_z = np.random.uniform(-1,1,size=(1,100))\n",
        "        gen_sample = sess.run(generator(z,reuse=True),feed_dict={z:sample_z})\n",
        "        \n",
        "        new_samples.append(gen_sample)"
      ],
      "execution_count": 0,
      "outputs": [
        {
          "output_type": "stream",
          "text": [
            "INFO:tensorflow:Restoring parameters from ./models/30_epoch_model.ckpt\n"
          ],
          "name": "stdout"
        }
      ]
    },
    {
      "cell_type": "code",
      "metadata": {
        "id": "u_hrV7e_ENft",
        "colab_type": "code",
        "outputId": "ea4692e3-0f06-4b3f-86af-b81b84c98b55",
        "colab": {
          "base_uri": "https://localhost:8080/",
          "height": 282
        }
      },
      "source": [
        "plt.imshow(new_samples[4].reshape(28,28))"
      ],
      "execution_count": 0,
      "outputs": [
        {
          "output_type": "execute_result",
          "data": {
            "text/plain": [
              "<matplotlib.image.AxesImage at 0x7f2128071198>"
            ]
          },
          "metadata": {
            "tags": []
          },
          "execution_count": 56
        },
        {
          "output_type": "display_data",
          "data": {
            "image/png": "[encoded data removed]",
            "text/plain": [
              "<Figure size 432x288 with 1 Axes>"
            ]
          },
          "metadata": {
            "tags": []
          }
        }
      ]
    }
  ]
}